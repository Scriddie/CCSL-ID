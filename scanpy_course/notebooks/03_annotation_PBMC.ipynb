{
 "cells": [
  {
   "cell_type": "markdown",
   "metadata": {},
   "source": [
    "# Introduction\n",
    "\n",
    "In this notebook, we analyse a sample of PBMCs. Here, we cover clustering and cell type annotation of the data."
   ]
  },
  {
   "cell_type": "markdown",
   "metadata": {
    "id": "369zExuTx_6g"
   },
   "source": [
    "\n",
    "Install all packages for the tutorial."
   ]
  },
  {
   "cell_type": "code",
   "execution_count": 3,
   "metadata": {
    "colab": {
     "base_uri": "https://localhost:8080/"
    },
    "id": "gjjZ3KNDyDjd",
    "outputId": "3777f678-a170-41dd-fd92-28fbd464d9e2"
   },
   "outputs": [
    {
     "name": "stdout",
     "output_type": "stream",
     "text": [
      "Collecting scanpy==1.6.1\n",
      "\u001b[?25l  Downloading https://files.pythonhosted.org/packages/76/75/677a6c4e78e8e3ff9eedef49b7b1dd4ab1cfd442ecf3131be329ad374186/scanpy-1.6.1-py3-none-any.whl (10.2MB)\n",
      "\u001b[K     |████████████████████████████████| 10.2MB 4.4MB/s \n",
      "\u001b[?25hCollecting umap-learn==0.4.6\n",
      "\u001b[?25l  Downloading https://files.pythonhosted.org/packages/ac/21/e1eb2eb1c624a84f4a23237adb974e94ff7371ee8c178d246194af83fb80/umap-learn-0.4.6.tar.gz (69kB)\n",
      "\u001b[K     |████████████████████████████████| 71kB 7.1MB/s \n",
      "\u001b[?25hCollecting anndata==0.7.5\n",
      "\u001b[?25l  Downloading https://files.pythonhosted.org/packages/81/b1/743cc79f89d9db6dccbfb7e6000795acb218a6c6320b7a2337cad99bd047/anndata-0.7.5-py3-none-any.whl (119kB)\n",
      "\u001b[K     |████████████████████████████████| 122kB 49.3MB/s \n",
      "\u001b[?25hRequirement already satisfied: numpy==1.19.5 in /usr/local/lib/python3.7/dist-packages (1.19.5)\n",
      "Requirement already satisfied: scipy==1.4.1 in /usr/local/lib/python3.7/dist-packages (1.4.1)\n",
      "Requirement already satisfied: pandas in /usr/local/lib/python3.7/dist-packages (1.1.5)\n",
      "Requirement already satisfied: matplotlib in /usr/local/lib/python3.7/dist-packages (3.2.2)\n",
      "Collecting scrublet\n",
      "  Downloading https://files.pythonhosted.org/packages/21/74/82308f7bdcbda730b772a6d1afb6f55b9706601032126c4359afb3fb8986/scrublet-0.2.3-py3-none-any.whl\n",
      "Requirement already satisfied: seaborn in /usr/local/lib/python3.7/dist-packages (0.11.1)\n",
      "Collecting python-igraph==0.8.3\n",
      "\u001b[?25l  Downloading https://files.pythonhosted.org/packages/64/e6/bbabc4a420a426cc062ce007f27e786972e2964790a097c94bbb8e36788f/python_igraph-0.8.3-cp37-cp37m-manylinux2010_x86_64.whl (3.2MB)\n",
      "\u001b[K     |████████████████████████████████| 3.2MB 39.8MB/s \n",
      "\u001b[?25hCollecting louvain==0.7.0\n",
      "\u001b[?25l  Downloading https://files.pythonhosted.org/packages/5c/5e/68f58d78088cab42dfcaa45c57ad691c025f9b246dda1d76d86a741f12ed/louvain-0.7.0-cp37-cp37m-manylinux2010_x86_64.whl (2.1MB)\n",
      "\u001b[K     |████████████████████████████████| 2.2MB 49.5MB/s \n",
      "\u001b[?25hCollecting leidenalg==0.8.3\n",
      "\u001b[?25l  Downloading https://files.pythonhosted.org/packages/70/68/3f7c56da3e7ac576e5e090f2a7e8637f96e4a790688dbee63b938530ef15/leidenalg-0.8.3-cp37-cp37m-manylinux2010_x86_64.whl (2.4MB)\n",
      "\u001b[K     |████████████████████████████████| 2.4MB 46.7MB/s \n",
      "\u001b[?25hRequirement already satisfied: packaging in /usr/local/lib/python3.7/dist-packages (from scanpy==1.6.1) (20.9)\n",
      "Requirement already satisfied: patsy in /usr/local/lib/python3.7/dist-packages (from scanpy==1.6.1) (0.5.1)\n",
      "Requirement already satisfied: tqdm in /usr/local/lib/python3.7/dist-packages (from scanpy==1.6.1) (4.41.1)\n",
      "Requirement already satisfied: natsort in /usr/local/lib/python3.7/dist-packages (from scanpy==1.6.1) (5.5.0)\n",
      "Collecting sinfo\n",
      "  Downloading https://files.pythonhosted.org/packages/e1/4c/aef8456284f1a1c3645b938d9ca72388c9c4878e6e67b8a349c7d22fac78/sinfo-0.3.1.tar.gz\n",
      "Collecting legacy-api-wrap\n",
      "  Downloading https://files.pythonhosted.org/packages/a4/68/da997bc56bb69dcdcee4054f0bc42266909307b905389fbc54c9158f42da/legacy_api_wrap-1.2-py3-none-any.whl\n",
      "Requirement already satisfied: importlib-metadata>=0.7; python_version < \"3.8\" in /usr/local/lib/python3.7/dist-packages (from scanpy==1.6.1) (3.4.0)\n",
      "Requirement already satisfied: joblib in /usr/local/lib/python3.7/dist-packages (from scanpy==1.6.1) (1.0.1)\n",
      "Collecting setuptools-scm\n",
      "  Downloading https://files.pythonhosted.org/packages/db/6e/2815f7c8561b088ccedc128681e64daac3d6b2e81a9918b007e244dad8b1/setuptools_scm-5.0.1-py2.py3-none-any.whl\n",
      "Requirement already satisfied: tables in /usr/local/lib/python3.7/dist-packages (from scanpy==1.6.1) (3.4.4)\n",
      "Requirement already satisfied: scikit-learn>=0.21.2 in /usr/local/lib/python3.7/dist-packages (from scanpy==1.6.1) (0.22.2.post1)\n",
      "Requirement already satisfied: networkx>=2.3 in /usr/local/lib/python3.7/dist-packages (from scanpy==1.6.1) (2.5)\n",
      "Requirement already satisfied: h5py>=2.10.0 in /usr/local/lib/python3.7/dist-packages (from scanpy==1.6.1) (2.10.0)\n",
      "Requirement already satisfied: statsmodels>=0.10.0rc2 in /usr/local/lib/python3.7/dist-packages (from scanpy==1.6.1) (0.10.2)\n",
      "Requirement already satisfied: numba>=0.41.0 in /usr/local/lib/python3.7/dist-packages (from scanpy==1.6.1) (0.51.2)\n",
      "Requirement already satisfied: pytz>=2017.2 in /usr/local/lib/python3.7/dist-packages (from pandas) (2018.9)\n",
      "Requirement already satisfied: python-dateutil>=2.7.3 in /usr/local/lib/python3.7/dist-packages (from pandas) (2.8.1)\n",
      "Requirement already satisfied: pyparsing!=2.0.4,!=2.1.2,!=2.1.6,>=2.0.1 in /usr/local/lib/python3.7/dist-packages (from matplotlib) (2.4.7)\n",
      "Requirement already satisfied: kiwisolver>=1.0.1 in /usr/local/lib/python3.7/dist-packages (from matplotlib) (1.3.1)\n",
      "Requirement already satisfied: cycler>=0.10 in /usr/local/lib/python3.7/dist-packages (from matplotlib) (0.10.0)\n",
      "Requirement already satisfied: scikit-image in /usr/local/lib/python3.7/dist-packages (from scrublet) (0.16.2)\n",
      "Requirement already satisfied: cython in /usr/local/lib/python3.7/dist-packages (from scrublet) (0.29.21)\n",
      "Collecting annoy\n",
      "\u001b[?25l  Downloading https://files.pythonhosted.org/packages/a1/5b/1c22129f608b3f438713b91cd880dc681d747a860afe3e8e0af86e921942/annoy-1.17.0.tar.gz (646kB)\n",
      "\u001b[K     |████████████████████████████████| 655kB 44.3MB/s \n",
      "\u001b[?25hCollecting texttable>=1.6.2\n",
      "  Downloading https://files.pythonhosted.org/packages/06/f5/46201c428aebe0eecfa83df66bf3e6caa29659dbac5a56ddfd83cae0d4a4/texttable-1.6.3-py2.py3-none-any.whl\n",
      "Requirement already satisfied: six in /usr/local/lib/python3.7/dist-packages (from patsy->scanpy==1.6.1) (1.15.0)\n",
      "Collecting stdlib_list\n",
      "\u001b[?25l  Downloading https://files.pythonhosted.org/packages/7a/b1/52f59dcf31ead2f0ceff8976288449608d912972b911f55dff712cef5719/stdlib_list-0.8.0-py3-none-any.whl (63kB)\n",
      "\u001b[K     |████████████████████████████████| 71kB 8.5MB/s \n",
      "\u001b[?25hCollecting get-version>=2.0.4\n",
      "\u001b[?25l  Downloading https://files.pythonhosted.org/packages/23/48/7610e884e62fff2183e7bc8592397c39a020267fb5147905fcd3f9cc820c/get_version-2.1-py3-none-any.whl (43kB)\n",
      "\u001b[K     |████████████████████████████████| 51kB 6.1MB/s \n",
      "\u001b[?25hRequirement already satisfied: setuptools in /usr/local/lib/python3.7/dist-packages (from legacy-api-wrap->scanpy==1.6.1) (53.0.0)\n",
      "Requirement already satisfied: zipp>=0.5 in /usr/local/lib/python3.7/dist-packages (from importlib-metadata>=0.7; python_version < \"3.8\"->scanpy==1.6.1) (3.4.0)\n",
      "Requirement already satisfied: typing-extensions>=3.6.4; python_version < \"3.8\" in /usr/local/lib/python3.7/dist-packages (from importlib-metadata>=0.7; python_version < \"3.8\"->scanpy==1.6.1) (3.7.4.3)\n",
      "Requirement already satisfied: numexpr>=2.5.2 in /usr/local/lib/python3.7/dist-packages (from tables->scanpy==1.6.1) (2.7.2)\n",
      "Requirement already satisfied: decorator>=4.3.0 in /usr/local/lib/python3.7/dist-packages (from networkx>=2.3->scanpy==1.6.1) (4.4.2)\n",
      "Requirement already satisfied: llvmlite<0.35,>=0.34.0.dev0 in /usr/local/lib/python3.7/dist-packages (from numba>=0.41.0->scanpy==1.6.1) (0.34.0)\n",
      "Requirement already satisfied: pillow>=4.3.0 in /usr/local/lib/python3.7/dist-packages (from scikit-image->scrublet) (7.0.0)\n",
      "Requirement already satisfied: PyWavelets>=0.4.0 in /usr/local/lib/python3.7/dist-packages (from scikit-image->scrublet) (1.1.1)\n",
      "Requirement already satisfied: imageio>=2.3.0 in /usr/local/lib/python3.7/dist-packages (from scikit-image->scrublet) (2.4.1)\n",
      "Building wheels for collected packages: umap-learn, sinfo, annoy\n",
      "  Building wheel for umap-learn (setup.py) ... \u001b[?25l\u001b[?25hdone\n",
      "  Created wheel for umap-learn: filename=umap_learn-0.4.6-cp37-none-any.whl size=67950 sha256=73d5cb1d3c6d934d02650d176b11047ea7b19bdb89855adbfc18070a7ff26e46\n",
      "  Stored in directory: /root/.cache/pip/wheels/7d/1d/03/34aade9a9b97acddb8e93654eb856dadbf0964406eef8b96e2\n",
      "  Building wheel for sinfo (setup.py) ... \u001b[?25l\u001b[?25hdone\n",
      "  Created wheel for sinfo: filename=sinfo-0.3.1-cp37-none-any.whl size=7012 sha256=bb127fa685485f839524349037891d37cc1fef1249ba1d798b14834188c16250\n",
      "  Stored in directory: /root/.cache/pip/wheels/11/f0/23/347d6d8e59787c2bc272162d18223dc3b45bd6dc40aceee6af\n",
      "  Building wheel for annoy (setup.py) ... \u001b[?25l\u001b[?25hdone\n",
      "  Created wheel for annoy: filename=annoy-1.17.0-cp37-cp37m-linux_x86_64.whl size=391565 sha256=c58dc596624d8b8e3cef82a38dd91e8a414930604c7f25af6ed9f921ccfa180b\n",
      "  Stored in directory: /root/.cache/pip/wheels/3a/c5/59/cce7e67b52c8e987389e53f917b6bb2a9d904a03246fadcb1e\n",
      "Successfully built umap-learn sinfo annoy\n",
      "Installing collected packages: stdlib-list, sinfo, anndata, get-version, legacy-api-wrap, setuptools-scm, umap-learn, scanpy, annoy, scrublet, texttable, python-igraph, louvain, leidenalg\n",
      "  Found existing installation: umap-learn 0.5.1\n",
      "    Uninstalling umap-learn-0.5.1:\n",
      "      Successfully uninstalled umap-learn-0.5.1\n",
      "Successfully installed anndata-0.7.5 annoy-1.17.0 get-version-2.1 legacy-api-wrap-1.2 leidenalg-0.8.3 louvain-0.7.0 python-igraph-0.8.3 scanpy-1.6.1 scrublet-0.2.3 setuptools-scm-5.0.1 sinfo-0.3.1 stdlib-list-0.8.0 texttable-1.6.3 umap-learn-0.4.6\n"
     ]
    }
   ],
   "source": [
    "!pip install scanpy==1.6.1 umap-learn==0.4.6 anndata==0.7.5 numpy==1.19.5 scipy==1.4.1 pandas matplotlib scrublet seaborn python-igraph==0.8.3 louvain==0.7.0 leidenalg==0.8.3"
   ]
  },
  {
   "cell_type": "markdown",
   "metadata": {
    "id": "konUvxFoyPC3"
   },
   "source": [
    "Load all required packages."
   ]
  },
  {
   "cell_type": "code",
   "execution_count": 4,
   "metadata": {
    "id": "TiqLggKsx6jY"
   },
   "outputs": [],
   "source": [
    "import scanpy as sc\n",
    "import anndata as ann\n",
    "import numpy as np\n",
    "import scipy as sp\n",
    "import pandas as pd\n",
    "import matplotlib.pyplot as plt\n",
    "from matplotlib import rcParams\n",
    "from matplotlib import colors\n",
    "\n",
    "import os \n",
    "#doublet detection\n",
    "import scrublet as scr\n",
    "\n",
    "\n",
    "#pretty plotting\n",
    "import seaborn as sb\n",
    "\n"
   ]
  },
  {
   "cell_type": "code",
   "execution_count": 5,
   "metadata": {
    "colab": {
     "base_uri": "https://localhost:8080/"
    },
    "id": "xPXTUvufx6jc",
    "outputId": "21748c80-c050-4bbe-8707-ed7770f7a2b0"
   },
   "outputs": [
    {
     "name": "stdout",
     "output_type": "stream",
     "text": [
      "scanpy==1.6.1 anndata==0.7.5 umap==0.5.1 numpy==1.19.5 scipy==1.4.1 pandas==1.1.5 scikit-learn==0.22.2.post1 statsmodels==0.10.2 python-igraph==0.8.3 louvain==0.7.0 leidenalg==0.8.3\n"
     ]
    }
   ],
   "source": [
    "plt.rcParams['figure.figsize']=(8,8) #rescale figures\n",
    "sc.settings.verbosity = 3\n",
    "#sc.set_figure_params(dpi=200, dpi_save=300)\n",
    "sc.logging.print_header()\n"
   ]
  },
  {
   "cell_type": "markdown",
   "metadata": {
    "id": "T0LMHYK5x6jf"
   },
   "source": [
    "Of note, this notebook was created as part of a workshop, so we use extra large legend texts in all seaborn plots. You can set the context as well to 'talk' or 'paper'."
   ]
  },
  {
   "cell_type": "code",
   "execution_count": 6,
   "metadata": {
    "id": "ObAcocr1x6jg"
   },
   "outputs": [],
   "source": [
    "sb.set_context(context='poster')\n"
   ]
  },
  {
   "cell_type": "markdown",
   "metadata": {
    "id": "I4YQP5Bxx6jl"
   },
   "source": [
    "# Set project file paths"
   ]
  },
  {
   "cell_type": "markdown",
   "metadata": {
    "id": "9w4JehCYycIt"
   },
   "source": [
    "Let us set up the connection with Google Drive."
   ]
  },
  {
   "cell_type": "code",
   "execution_count": 7,
   "metadata": {
    "colab": {
     "base_uri": "https://localhost:8080/"
    },
    "id": "GRY5suT9ybQz",
    "outputId": "3be5fdd1-e61b-4ef5-d9a1-40eee7e39ec8"
   },
   "outputs": [
    {
     "name": "stdout",
     "output_type": "stream",
     "text": [
      "Mounted at /content/drive\n"
     ]
    }
   ],
   "source": [
    "from google.colab import drive\n",
    "drive.mount('/content/drive')"
   ]
  },
  {
   "cell_type": "markdown",
   "metadata": {
    "id": "WcU2nPwOx6jl"
   },
   "source": [
    "We set up the file paths to the respective directories."
   ]
  },
  {
   "cell_type": "code",
   "execution_count": 8,
   "metadata": {
    "id": "NEvvWdQhx6jl"
   },
   "outputs": [],
   "source": [
    "file_path = '/content/drive/My Drive/' #this is the file path to your google drive (main directory)"
   ]
  },
  {
   "cell_type": "code",
   "execution_count": 9,
   "metadata": {
    "id": "YW955dVHOGb-"
   },
   "outputs": [],
   "source": [
    "import os "
   ]
  },
  {
   "cell_type": "code",
   "execution_count": null,
   "metadata": {},
   "outputs": [],
   "source": [
    "os.listdir(file_path)"
   ]
  },
  {
   "cell_type": "markdown",
   "metadata": {
    "id": "axR6OBhRx6jo"
   },
   "source": [
    "File path to the raw data. They are usually stored at a different location than the rest of the project."
   ]
  },
  {
   "cell_type": "code",
   "execution_count": 11,
   "metadata": {
    "id": "Nhja3qzVx6jp"
   },
   "outputs": [],
   "source": [
    "file_path_raw = file_path + '3k_PBMC/'"
   ]
  },
  {
   "cell_type": "markdown",
   "metadata": {
    "id": "bU3JmkQlx6js"
   },
   "source": [
    "The data directory contains all processed data and `anndata` files. "
   ]
  },
  {
   "cell_type": "code",
   "execution_count": 12,
   "metadata": {
    "id": "Kpv68PxYx6jt"
   },
   "outputs": [],
   "source": [
    "data_dir = file_path + 'PBMC_Colabs/data/' "
   ]
  },
  {
   "cell_type": "markdown",
   "metadata": {
    "id": "qIyfTE6mx6jx"
   },
   "source": [
    "The tables directory contains all tabular data output, e.g. in `.csv` or `.xls` file format. That applies to differential expression test results or overview tables such as the number of cells per cell type."
   ]
  },
  {
   "cell_type": "code",
   "execution_count": 13,
   "metadata": {
    "id": "RbT94tWAx6jy"
   },
   "outputs": [],
   "source": [
    "table_dir = file_path + 'PBMC_Colabs/tables/'"
   ]
  },
  {
   "cell_type": "markdown",
   "metadata": {
    "id": "YZdFb4bsx6j0"
   },
   "source": [
    "The default figure path is a POSIX path calles 'figures'. If you don't change the default figure directory, scanpy creates a subdirectory where this notebook is located.  "
   ]
  },
  {
   "cell_type": "code",
   "execution_count": 14,
   "metadata": {
    "id": "x0PSnfOnx6j1"
   },
   "outputs": [],
   "source": [
    "sc.settings.figdir = file_path + 'PBMC_Colabs/figures/'"
   ]
  },
  {
   "cell_type": "markdown",
   "metadata": {
    "id": "Ymh8mNlRx6j3"
   },
   "source": [
    "**Comment:** When you repeat certain analyses, it might be helpful to set a `date` variable and add it to every figure and table (see `datetime` Python package)."
   ]
  },
  {
   "cell_type": "code",
   "execution_count": null,
   "metadata": {},
   "outputs": [],
   "source": [
    "import datetime\n",
    "\n",
    "today = datetime.date.today().strftime('%y%m%d') #creates a YYMMDD string of today's date"
   ]
  },
  {
   "cell_type": "markdown",
   "metadata": {},
   "source": [
    "# Read data"
   ]
  },
  {
   "cell_type": "markdown",
   "metadata": {},
   "source": [
    "The normalised dataset, which consists of 3k PBMCs (Human) provided by 10X Genomics."
   ]
  },
  {
   "cell_type": "code",
   "execution_count": 12,
   "metadata": {},
   "outputs": [],
   "source": [
    "adata = sc.read(data_dir + 'data_processed.h5ad')"
   ]
  },
  {
   "cell_type": "markdown",
   "metadata": {
    "toc-hr-collapsed": false
   },
   "source": [
    "# Downstream analysis"
   ]
  },
  {
   "cell_type": "markdown",
   "metadata": {},
   "source": [
    "## Clustering"
   ]
  },
  {
   "cell_type": "markdown",
   "metadata": {},
   "source": [
    "Clustering is a central component of the scRNA-seq analysis pipeline. To understand the data, we must identify cell types and states present. The first step of doing so is clustering. Performing Modularity optimization by Louvain community detection on the k-nearest-neighbour graph of cells has become an established practice in scRNA-seq analysis. Thus, this is the method of choice in this tutorial as well.\n",
    "\n",
    "Here, we perform clustering at two resolutions. Investigating several resolutions allows us to select a clustering that appears to capture the main clusters in the visualization and can provide a good baseline for further subclustering of the data to identify more specific substructure.\n",
    "\n",
    "Clustering is performed on the highly variable gene data, dimensionality reduced by PCA, and embedded into a KNN graph. (see `sc.pp.pca()` and `sc.pp.neighbors()` functions used in the visualization section)."
   ]
  },
  {
   "cell_type": "markdown",
   "metadata": {},
   "source": [
    "Compute a `louvain` clustering with two different resolutions (`0.5` and `1`). Compare the clusterings in a table and visualize the clustering in an embedding. Optional: Compute a clustering with the `leiden` algorithm. "
   ]
  },
  {
   "cell_type": "code",
   "execution_count": null,
   "metadata": {},
   "outputs": [],
   "source": [
    "# Perform clustering - using highly variable genes\n",
    "sc.tl.louvain(adata, resolution=1.5, key_added='louvain_r1.5')\n",
    "sc.tl.louvain(adata, resolution=0.5, key_added='louvain_r0.5')"
   ]
  },
  {
   "cell_type": "code",
   "execution_count": null,
   "metadata": {},
   "outputs": [],
   "source": [
    "pd.crosstab(adata.obs['louvain_r0.5'], adata.obs['louvain_r1.5'])"
   ]
  },
  {
   "cell_type": "code",
   "execution_count": null,
   "metadata": {},
   "outputs": [],
   "source": [
    "#Visualize the clustering and how this is reflected by different technical covariates\n",
    "sc.pl.umap(adata, color=['louvain_r1.5', 'louvain_r0.5'], wspace=0.6)\n",
    "sc.pl.umap(adata, color=['log_counts', 'mt_frac'])"
   ]
  },
  {
   "cell_type": "markdown",
   "metadata": {},
   "source": [
    "## Marker genes and cluster annotation "
   ]
  },
  {
   "cell_type": "markdown",
   "metadata": {},
   "source": [
    "To annotate the clusters we obtained, we find genes that are up-regulated in the cluster compared to all other clusters (marker genes). This differential expression test is performed by a *Welch t-test with overestimated variance* to be conservative. This is the default in `scanpy`. The test is automatically performed on the `.raw` data set, which is uncorrected and contains all genes. All genes are taken into account, as any gene may be an informative marker.\n",
    "\n",
    "As we are using the relevant mouse gut atlas from the literature in this case study, there is no other reference atlas which we use to annotate the cells by automated annotation. Thus, we do not use scmap or garnett here."
   ]
  },
  {
   "cell_type": "markdown",
   "metadata": {},
   "source": [
    "Compute the differential expression profile for each cluster with `rank_genes_groups` and visualize the results."
   ]
  },
  {
   "cell_type": "code",
   "execution_count": null,
   "metadata": {},
   "outputs": [],
   "source": [
    "#Calculate marker genes\n",
    "sc.tl.rank_genes_groups(adata, groupby='louvain_r0.5', key_added='rank_genes_r0.5')"
   ]
  },
  {
   "cell_type": "code",
   "execution_count": null,
   "metadata": {},
   "outputs": [],
   "source": [
    "#Plot marker genes\n",
    "sc.pl.rank_genes_groups(adata, key='rank_genes_r0.5', fontsize=12)"
   ]
  },
  {
   "cell_type": "markdown",
   "metadata": {},
   "source": [
    "**Tasks:** Calculate and visualise marker genes for the louvain clustering with resolution `1.5`."
   ]
  },
  {
   "cell_type": "code",
   "execution_count": null,
   "metadata": {},
   "outputs": [],
   "source": [
    "#Calculate marker genes\n"
   ]
  },
  {
   "cell_type": "code",
   "execution_count": null,
   "metadata": {},
   "outputs": [],
   "source": [
    "#Plot marker genes\n"
   ]
  },
  {
   "cell_type": "markdown",
   "metadata": {},
   "source": [
    "Here, we observe potentially characteristic gene expression patterns, but we also observe a considerable ribosomal proteins (*RPL* and *RPS*), which are part of the ribosomes. Thus, they are involved in mRNA translational processes. Usually, these genes are difficult to interpret. \n",
    "\n",
    "Furthermore, the score itself is not interpretable in terms of specificity and significance in the case of clustering, because the clusters were previously defined as a group of cells being different from the rest. Therefore, we compare a group that is a priori different to the rest and the resulting scores (or p-values) are inflated. Furthermore, the smaller a cluster is, the smaller is the observed score, unless a gene is very specific to the cluster. Typically, we may find marker genes in the gene lists of the `rank_genes_groups` test, but not all marker genes have a high expression level.\n",
    "\n",
    "When it comes to cluster annotation, we usually have to tap into prior knowledge of the cell type. Depending on the data set, this may involve extensive literature search. In the case of brain cell types, we may refer to several studies and several web resources to extract marker gene sets. Alternative approaches such as `scmap` use annotated reference data to predict the cell type identity of new data, or train a classifier based on marker genes (e.g. `Garnett`).\n"
   ]
  },
  {
   "cell_type": "markdown",
   "metadata": {},
   "source": [
    "In the case of PBMCs, we may refer to several studies and single-cell RNA-sequencing data analysis tutorials to extract marker gene sets. \n",
    "The following list is extracted from the Seurat tutorial on PBMCs."
   ]
  },
  {
   "cell_type": "markdown",
   "metadata": {},
   "source": [
    "\n",
    "|Marker Gene|Cell Type|\n",
    "|---------|-------|\n",
    "|IL7R|CD4 T cells|\n",
    "|CD14, LYZ|CD14+ Monocytes|\n",
    "|MS4A1|B cells|\n",
    "|CD8A|CD8 T cells|\n",
    "|FCGR3A, MS4A7|FCGR3A+ Monocytes|\n",
    "|GNLY, NKG7|NK cells|\n",
    "|FCER1A, CST3|Dendritic Cells|\n",
    "|PPBP|Megakaryocytes|\n"
   ]
  },
  {
   "cell_type": "markdown",
   "metadata": {},
   "source": [
    "Let us define a list of marker genes from literature."
   ]
  },
  {
   "cell_type": "code",
   "execution_count": null,
   "metadata": {},
   "outputs": [],
   "source": [
    "marker_genes = ['IL7R', 'CD79A', 'MS4A1', 'CD8A', 'CD8B', 'LYZ', 'CD14',\n",
    "                'LGALS3', 'S100A8', 'GNLY', 'NKG7', 'KLRB1',\n",
    "                'FCGR3A', 'MS4A7', 'FCER1A', 'CST3', 'PPBP']"
   ]
  },
  {
   "cell_type": "markdown",
   "metadata": {},
   "source": [
    "**Tasks:** Annotate the clusters. \n",
    "Check briefly, if all marker genes are present in the dataset and visualise the marker genes in a UMAP (or another visualisation of your choice).\n",
    "You can use auxiliary plots like `matrixplot`, `dotplot`, `heatmap` or `violin` plots or coloring an embedding (e.g. UMAP, t-SNE, FA) by the marker genes."
   ]
  },
  {
   "cell_type": "markdown",
   "metadata": {},
   "source": [
    "Let us check if the marker genes are expressed in our dataset."
   ]
  },
  {
   "cell_type": "code",
   "execution_count": null,
   "metadata": {},
   "outputs": [],
   "source": [
    "np.in1d(marker_genes, adata.var_names)"
   ]
  },
  {
   "cell_type": "code",
   "execution_count": null,
   "metadata": {},
   "outputs": [],
   "source": [
    "#plots"
   ]
  },
  {
   "cell_type": "code",
   "execution_count": null,
   "metadata": {},
   "outputs": [],
   "source": [
    "sc.pl.dotplot(adata=, \n",
    "              var_names =,\n",
    "              groupby=, \n",
    "              use_raw=False)"
   ]
  },
  {
   "cell_type": "code",
   "execution_count": null,
   "metadata": {},
   "outputs": [],
   "source": [
    "sc.pl.heatmap(adata=, var_names=, \n",
    "              figsize=(5,10),\n",
    "              groupby=, \n",
    "              use_raw=False, vmin=0)"
   ]
  },
  {
   "cell_type": "code",
   "execution_count": null,
   "metadata": {},
   "outputs": [],
   "source": [
    "sc.pl.matrixplot(adata=, var_names=,\n",
    "                 groupby=, \n",
    "                 use_raw=False, vmin=0)"
   ]
  },
  {
   "cell_type": "code",
   "execution_count": null,
   "metadata": {},
   "outputs": [],
   "source": [
    "sc.pl.stacked_violin(adata = ,var_names = , groupby=, \n",
    "                     use_raw=False)"
   ]
  },
  {
   "cell_type": "markdown",
   "metadata": {},
   "source": [
    "Annotate clusters and create a new covariate.\n",
    "\n",
    "\n",
    "|Marker Gene|Cell Type|\n",
    "|-------|-------|\n",
    "|IL7R|CD4 T cells|\n",
    "|CD14, LYZ|CD14+ Monocytes|\n",
    "|MS4A1|B cells|\n",
    "|CD8A|CD8 T cells|\n",
    "|FCGR3A, MS4A7|FCGR3A+ Monocytes|\n",
    "|GNLY, NKG7|NK cells|\n",
    "|FCER1A, CST3|Dendritic Cells|\n",
    "|PPBP|Megakaryocytes|"
   ]
  },
  {
   "cell_type": "markdown",
   "metadata": {},
   "source": [
    "Use the `pandas` data frame functionality to rename your clusters and visualize your annotation. Here, we use a dictionary to annotate the clusters. Please note that the number and order of cluster might change depending on the pre-processing decisions."
   ]
  },
  {
   "cell_type": "code",
   "execution_count": null,
   "metadata": {},
   "outputs": [],
   "source": [
    "cluster2annotation = {\n",
    "    '0': '', #replace '' by the name of the cell type, e.g. 'NK cells'\n",
    "    '1': '',\n",
    "    '2': '',\n",
    "    '3': '',\n",
    "    '4': '',\n",
    "    '5': '',\n",
    "    '6': '',\n",
    "    '7': '',\n",
    "    '8': '',\n",
    "    '9': '',\n",
    "    '10': '',\n",
    "    '11': '',\n",
    "    '12': '',\n",
    "    '13': '',\n",
    "    '14': '',\n",
    "    '15': '',\n",
    "    '16': '',\n",
    "    '17': '',\n",
    "    '18': '',\n",
    "    '19': '', #adapt the number of clusters according to your results\n",
    "}"
   ]
  },
  {
   "cell_type": "code",
   "execution_count": null,
   "metadata": {},
   "outputs": [],
   "source": [
    "#map new annotation\n",
    "adata.obs['annotated'] = adata.obs['annotated'].map(cluster2annotation).astype('category')"
   ]
  },
  {
   "cell_type": "code",
   "execution_count": null,
   "metadata": {},
   "outputs": [],
   "source": [
    "adata.obs['annotated'].value_counts()"
   ]
  },
  {
   "cell_type": "markdown",
   "metadata": {},
   "source": [
    "**Task:** Visualise your annotation on a UMAP as well as in a `matrixplot`, `dotplot`, `heatmap` or `violin` plots."
   ]
  },
  {
   "cell_type": "code",
   "execution_count": null,
   "metadata": {},
   "outputs": [],
   "source": [
    "sc.pl.umap(adata, color='annotated', legend_loc='on data', title='', frameon=False)\n",
    "sc.pl.umap(adata, color='annotated',  title='', frameon=True)"
   ]
  },
  {
   "cell_type": "code",
   "execution_count": null,
   "metadata": {},
   "outputs": [],
   "source": [
    "sc.pl.dotplot(adata=, \n",
    "              var_names =,\n",
    "              groupby=, \n",
    "              use_raw=False)"
   ]
  },
  {
   "cell_type": "code",
   "execution_count": null,
   "metadata": {},
   "outputs": [],
   "source": [
    "sc.pl.heatmap(adata=, var_names=, \n",
    "              figsize=(5,10),\n",
    "              groupby=, \n",
    "              use_raw=False, vmin=0)"
   ]
  },
  {
   "cell_type": "code",
   "execution_count": null,
   "metadata": {},
   "outputs": [],
   "source": [
    "sc.pl.matrixplot(adata = , \n",
    "                 var_names = , \n",
    "                 groupby= , \n",
    "                 use_raw=False, vmin=0)"
   ]
  },
  {
   "cell_type": "code",
   "execution_count": null,
   "metadata": {},
   "outputs": [],
   "source": [
    "sc.pl.stacked_violin(adata=   , \n",
    "                     var_names=   , \n",
    "                     groupby=    , \n",
    "                     use_raw=False)"
   ]
  },
  {
   "cell_type": "markdown",
   "metadata": {},
   "source": [
    "### Inspect subpopulations of B cells"
   ]
  },
  {
   "cell_type": "markdown",
   "metadata": {},
   "source": [
    "Let us determine the differences in the B cell clusters by differential expression. Subcluster the B cells first."
   ]
  },
  {
   "cell_type": "code",
   "execution_count": null,
   "metadata": {},
   "outputs": [],
   "source": [
    "sc.tl.leiden(adata, resolution=0.2, restrict_to = ['annotated',['B cells']], key_added='leiden_R')"
   ]
  },
  {
   "cell_type": "code",
   "execution_count": null,
   "metadata": {},
   "outputs": [],
   "source": [
    "rcParams['figure.figsize']= (5,5)\n",
    "sc.pl.umap(adata, color='leiden_R')"
   ]
  },
  {
   "cell_type": "code",
   "execution_count": null,
   "metadata": {},
   "outputs": [],
   "source": [
    "sc.tl.rank_genes_groups(adata = adata, groupby='leiden_R', groups= ['B cells,1'], reference='B cells,0', rankby_abs=True)"
   ]
  },
  {
   "cell_type": "code",
   "execution_count": null,
   "metadata": {},
   "outputs": [],
   "source": [
    "rcParams['figure.figsize']=(10,5)\n",
    "sc.pl.rank_genes_groups(adata, size=10, n_genes=40)"
   ]
  },
  {
   "cell_type": "code",
   "execution_count": null,
   "metadata": {},
   "outputs": [],
   "source": [
    "sc.pl.rank_genes_groups_violin(adata, groups='B cells,1', n_genes=10, use_raw=False)"
   ]
  },
  {
   "cell_type": "markdown",
   "metadata": {},
   "source": [
    "**Questions:** \n",
    "Which differences do you see in the B cell subpopulations? \n",
    "\n",
    "Are there genes exclusively expressed in one of the populations? \n",
    "\n",
    "Which conclusions do you draw from the expression pattern?"
   ]
  },
  {
   "cell_type": "markdown",
   "metadata": {},
   "source": [
    "**BONUS:** Investigate NK cells and try to distinguish NK cells and NKT cells."
   ]
  },
  {
   "cell_type": "markdown",
   "metadata": {},
   "source": [
    "## Save annotated data to file"
   ]
  },
  {
   "cell_type": "markdown",
   "metadata": {},
   "source": [
    "At this point, we have finished the data annotation. This represents another milestone in the data analysis of single cell data. Once the annotation is finished, we won't have to touch this part of the analysis again.   "
   ]
  },
  {
   "cell_type": "code",
   "execution_count": null,
   "metadata": {},
   "outputs": [],
   "source": [
    "adata.write(data_dir + 'data_annotated.h5ad')"
   ]
  },
  {
   "cell_type": "markdown",
   "metadata": {},
   "source": [
    "**Comment:** End of fifth session. In the next session, we will use the annotated data in the cellxgene browser. Please close and shutdown your jupyter session for this."
   ]
  }
 ],
 "metadata": {
  "kernelspec": {
   "display_name": "Python 3",
   "language": "python",
   "name": "python3"
  },
  "language_info": {
   "codemirror_mode": {
    "name": "ipython",
    "version": 3
   },
   "file_extension": ".py",
   "mimetype": "text/x-python",
   "name": "python",
   "nbconvert_exporter": "python",
   "pygments_lexer": "ipython3",
   "version": "3.8.6"
  },
  "toc": {
   "toc_cell": false,
   "toc_number_sections": true,
   "toc_threshold": 6,
   "toc_window_display": false
  },
  "toc-autonumbering": true,
  "toc-showcode": false,
  "toc-showmarkdowntxt": false
 },
 "nbformat": 4,
 "nbformat_minor": 4
}
