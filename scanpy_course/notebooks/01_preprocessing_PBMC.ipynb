{
 "cells": [
  {
   "cell_type": "markdown",
   "metadata": {
    "id": "369zExuTx_6g"
   },
   "source": [
    "\n",
    "Install all packages for the tutorial."
   ]
  },
  {
   "cell_type": "code",
   "execution_count": null,
   "metadata": {},
   "outputs": [],
   "source": [
    "!pip install scanpy==1.6.1 umap-learn==0.4.6 anndata==0.7.5 numpy==1.19.5 scipy==1.4.1 pandas matplotlib scrublet seaborn python-igraph==0.8.3 louvain==0.7.0 leidenalg==0.8.3"
   ]
  },
  {
   "cell_type": "markdown",
   "metadata": {},
   "source": [
    "# Introduction\n",
    "\n",
    "In this notebook, we analyse a sample of PBMCs. Here, we cover the initial filtering and quality control."
   ]
  },
  {
   "cell_type": "markdown",
   "metadata": {
    "id": "konUvxFoyPC3"
   },
   "source": [
    "## Load all required packages"
   ]
  },
  {
   "cell_type": "code",
   "execution_count": 4,
   "metadata": {
    "id": "TiqLggKsx6jY"
   },
   "outputs": [],
   "source": [
    "import scanpy as sc\n",
    "import anndata as ann\n",
    "import numpy as np\n",
    "import scipy as sp\n",
    "import pandas as pd\n",
    "import matplotlib.pyplot as plt\n",
    "from matplotlib import rcParams\n",
    "from matplotlib import colors\n",
    "\n",
    "import os \n",
    "#doublet detection\n",
    "import scrublet as scr\n",
    "\n",
    "\n",
    "#pretty plotting\n",
    "import seaborn as sb\n",
    "\n"
   ]
  },
  {
   "cell_type": "code",
   "execution_count": 5,
   "metadata": {
    "colab": {
     "base_uri": "https://localhost:8080/"
    },
    "id": "xPXTUvufx6jc",
    "outputId": "21748c80-c050-4bbe-8707-ed7770f7a2b0"
   },
   "outputs": [
    {
     "name": "stdout",
     "output_type": "stream",
     "text": [
      "scanpy==1.6.1 anndata==0.7.5 umap==0.5.1 numpy==1.19.5 scipy==1.4.1 pandas==1.1.5 scikit-learn==0.22.2.post1 statsmodels==0.10.2 python-igraph==0.8.3 louvain==0.7.0 leidenalg==0.8.3\n"
     ]
    }
   ],
   "source": [
    "plt.rcParams['figure.figsize']=(8,8) #rescale figures\n",
    "sc.settings.verbosity = 3\n",
    "#sc.set_figure_params(dpi=200, dpi_save=300)\n",
    "sc.logging.print_header()\n"
   ]
  },
  {
   "cell_type": "markdown",
   "metadata": {
    "id": "T0LMHYK5x6jf"
   },
   "source": [
    "Of note, this notebook was created as part of a workshop, so we use extra large legend texts in all seaborn plots. You can set the context as well to 'talk' or 'paper'."
   ]
  },
  {
   "cell_type": "code",
   "execution_count": 6,
   "metadata": {
    "id": "ObAcocr1x6jg"
   },
   "outputs": [],
   "source": [
    "sb.set_context(context='poster')\n"
   ]
  },
  {
   "cell_type": "markdown",
   "metadata": {
    "id": "I4YQP5Bxx6jl"
   },
   "source": [
    "# Set project file paths"
   ]
  },
  {
   "cell_type": "markdown",
   "metadata": {
    "id": "9w4JehCYycIt"
   },
   "source": [
    "Let us set up the connection with Google Drive."
   ]
  },
  {
   "cell_type": "code",
   "execution_count": 7,
   "metadata": {
    "colab": {
     "base_uri": "https://localhost:8080/"
    },
    "id": "GRY5suT9ybQz",
    "outputId": "3be5fdd1-e61b-4ef5-d9a1-40eee7e39ec8"
   },
   "outputs": [
    {
     "name": "stdout",
     "output_type": "stream",
     "text": [
      "Mounted at /content/drive\n"
     ]
    }
   ],
   "source": [
    "from google.colab import drive\n",
    "drive.mount('/content/drive')"
   ]
  },
  {
   "cell_type": "markdown",
   "metadata": {
    "id": "WcU2nPwOx6jl"
   },
   "source": [
    "We set up the file paths to the respective directories."
   ]
  },
  {
   "cell_type": "code",
   "execution_count": 8,
   "metadata": {
    "id": "NEvvWdQhx6jl"
   },
   "outputs": [],
   "source": [
    "file_path = '/content/drive/My Drive/' #this is the file path to your google drive (main directory)"
   ]
  },
  {
   "cell_type": "code",
   "execution_count": 9,
   "metadata": {
    "id": "YW955dVHOGb-"
   },
   "outputs": [],
   "source": [
    "import os "
   ]
  },
  {
   "cell_type": "markdown",
   "metadata": {},
   "source": [
    "Check contents of the current path."
   ]
  },
  {
   "cell_type": "code",
   "execution_count": null,
   "metadata": {},
   "outputs": [],
   "source": [
    "os.listdir(file_path)"
   ]
  },
  {
   "cell_type": "markdown",
   "metadata": {
    "id": "axR6OBhRx6jo"
   },
   "source": [
    "File path to the raw data. They are usually stored at a different location than the rest of the project."
   ]
  },
  {
   "cell_type": "code",
   "execution_count": 11,
   "metadata": {
    "id": "Nhja3qzVx6jp"
   },
   "outputs": [],
   "source": [
    "file_path_raw = file_path + '3k_PBMC/'"
   ]
  },
  {
   "cell_type": "markdown",
   "metadata": {
    "id": "bU3JmkQlx6js"
   },
   "source": [
    "The data directory contains all processed data and `anndata` files. "
   ]
  },
  {
   "cell_type": "code",
   "execution_count": 12,
   "metadata": {
    "id": "Kpv68PxYx6jt"
   },
   "outputs": [],
   "source": [
    "data_dir = file_path + 'PBMC_Colabs/data/' "
   ]
  },
  {
   "cell_type": "markdown",
   "metadata": {
    "id": "qIyfTE6mx6jx"
   },
   "source": [
    "The tables directory contains all tabular data output, e.g. in `.csv` or `.xls` file format. That applies to differential expression test results or overview tables such as the number of cells per cell type."
   ]
  },
  {
   "cell_type": "code",
   "execution_count": 13,
   "metadata": {
    "id": "RbT94tWAx6jy"
   },
   "outputs": [],
   "source": [
    "table_dir = file_path + 'PBMC_Colabs/tables/'"
   ]
  },
  {
   "cell_type": "markdown",
   "metadata": {
    "id": "YZdFb4bsx6j0"
   },
   "source": [
    "The default figure path is a POSIX path calles 'figures'. If you don't change the default figure directory, scanpy creates a subdirectory where this notebook is located.  "
   ]
  },
  {
   "cell_type": "code",
   "execution_count": 14,
   "metadata": {
    "id": "x0PSnfOnx6j1"
   },
   "outputs": [],
   "source": [
    "sc.settings.figdir = file_path + 'PBMC_Colabs/figures/'"
   ]
  },
  {
   "cell_type": "markdown",
   "metadata": {},
   "source": [
    "**Comment:** When you repeat certain analyses, it might be helpful to set a `date` variable and add it to every figure and table (see `datetime` Python package)."
   ]
  },
  {
   "cell_type": "code",
   "execution_count": null,
   "metadata": {},
   "outputs": [],
   "source": [
    "import datetime\n",
    "\n",
    "today = datetime.date.today().strftime('%y%m%d') #creates a YYMMDD string of today's date"
   ]
  },
  {
   "cell_type": "markdown",
   "metadata": {},
   "source": [
    "# Read data"
   ]
  },
  {
   "cell_type": "markdown",
   "metadata": {},
   "source": [
    "The dataset consists of 4k PBMCs (Human) provided by 10X Genomics. The data is an mtx directory with an `mtx` file (*i.e.* count matrix), two `tsv` files with barcodes (*i.e.* cell indices) and features (*i.e.* gene symbols). `Scanpy` unpacks the files (if the files are in `gz` archive format) and creates an `anndata` object with the `read_10x_mtx` function.    \n",
    "\n",
    "The dataset is not filtered, yet. "
   ]
  },
  {
   "cell_type": "code",
   "execution_count": null,
   "metadata": {},
   "outputs": [],
   "source": [
    "file_path_raw = file_path_raw + 'raw_gene_bc_matrices/'\n"
   ]
  },
  {
   "cell_type": "code",
   "execution_count": null,
   "metadata": {},
   "outputs": [],
   "source": [
    "adata_raw = sc.read_10x_mtx(path=file_path_raw)"
   ]
  },
  {
   "cell_type": "markdown",
   "metadata": {},
   "source": [
    "Let us check the dataset size. "
   ]
  },
  {
   "cell_type": "code",
   "execution_count": null,
   "metadata": {},
   "outputs": [],
   "source": [
    "adata_raw.shape"
   ]
  },
  {
   "cell_type": "code",
   "execution_count": null,
   "metadata": {},
   "outputs": [],
   "source": [
    "print('Total number of observations: {:d}'.format(adata_raw.n_obs))"
   ]
  },
  {
   "cell_type": "markdown",
   "metadata": {
    "toc-hr-collapsed": false
   },
   "source": [
    "# Quality control"
   ]
  },
  {
   "cell_type": "markdown",
   "metadata": {},
   "source": [
    "## Remove empty droplets\n",
    "\n",
    "The dataset contains an excessive amount of \"cells\", which are in fact empty droplets. Let us remove these barcodes prior to further quality control. We use emptyDrops to compute if a cell is a cell or an empty droplet.\n",
    "\n",
    "It must be noted that CellRanger 3.0 has incorporated the EmptyDrops algorithm to distinguish cells from empty droplets."
   ]
  },
  {
   "cell_type": "markdown",
   "metadata": {},
   "source": [
    "Prepare input for EmptyDrops."
   ]
  },
  {
   "cell_type": "code",
   "execution_count": null,
   "metadata": {},
   "outputs": [],
   "source": [
    "sparse_mat = adata_raw.X.T\n",
    "genes = adata_raw.var_names\n",
    "barcodes = adata_raw.obs_names"
   ]
  },
  {
   "cell_type": "markdown",
   "metadata": {},
   "source": [
    "Run EmptyDrops."
   ]
  },
  {
   "cell_type": "code",
   "execution_count": null,
   "metadata": {},
   "outputs": [],
   "source": [
    "%%R -i sparse_mat -i genes -i barcodes -o barcodes_filtered -o ambient_genes\n",
    "\n",
    "sce <- SingleCellExperiment(assays = list(counts = sparse_mat), colData=barcodes)\n",
    "rownames(sce) <- genes \n",
    "ambient <- emptyDrops(counts(sce))\n",
    "is_cell <- ambient$FDR <= 0.05 #False discovery rate for cells\n",
    "threshold_ambient <- 0.005 #threshold level of ambient RNA\n",
    "ambient_genes <- names(ambient@metadata$ambient[ambient@metadata$ambient> threshold_ambient,])\n",
    "barcodes_filtered <- barcodes[which(is_cell)]"
   ]
  },
  {
   "cell_type": "markdown",
   "metadata": {},
   "source": [
    "Empty drops returns a list of potentially ambient genes and the barcodes, which belong to actual cells."
   ]
  },
  {
   "cell_type": "code",
   "execution_count": null,
   "metadata": {},
   "outputs": [],
   "source": [
    "print(ambient_genes)"
   ]
  },
  {
   "cell_type": "code",
   "execution_count": null,
   "metadata": {},
   "outputs": [],
   "source": [
    "print(barcodes_filtered)"
   ]
  },
  {
   "cell_type": "markdown",
   "metadata": {},
   "source": [
    "Let us create a filtered data matrix using the filtered barcodes."
   ]
  },
  {
   "cell_type": "code",
   "execution_count": null,
   "metadata": {},
   "outputs": [],
   "source": [
    "adata = adata_raw[np.in1d(adata_raw.obs_names, barcodes_filtered)].copy()"
   ]
  },
  {
   "cell_type": "code",
   "execution_count": null,
   "metadata": {},
   "outputs": [],
   "source": [
    "adata"
   ]
  },
  {
   "cell_type": "markdown",
   "metadata": {},
   "source": [
    "**BONUS**: Examine the level of background gene expression."
   ]
  },
  {
   "cell_type": "markdown",
   "metadata": {},
   "source": [
    "Save the filtered data set to file."
   ]
  },
  {
   "cell_type": "code",
   "execution_count": null,
   "metadata": {},
   "outputs": [],
   "source": [
    "adata.write(data_dir + 'data_filtered.h5ad')"
   ]
  },
  {
   "cell_type": "markdown",
   "metadata": {},
   "source": [
    "**COMMENT:** End of first session."
   ]
  },
  {
   "cell_type": "markdown",
   "metadata": {},
   "source": [
    "## Compute quality control metrics"
   ]
  },
  {
   "cell_type": "markdown",
   "metadata": {},
   "source": [
    "Read data from file to begin with the quality control."
   ]
  },
  {
   "cell_type": "code",
   "execution_count": null,
   "metadata": {},
   "outputs": [],
   "source": [
    "adata = sc.read(data_dir + 'data_filtered.h5ad')"
   ]
  },
  {
   "cell_type": "markdown",
   "metadata": {},
   "source": [
    "Data quality control can be split into cell QC and gene QC. Typical quality measures for assessing the quality of a cell include the number of molecule counts (UMIs), the number of expressed genes, and the fraction of counts that are mitochondrial. A high fraction of mitochondrial reads being picked up can indicate cell stress, as there is a low proportion of nuclear mRNA in the cell. It should be noted that high mitochondrial RNA fractions can also be biological signals indicating elevated respiration."
   ]
  },
  {
   "cell_type": "markdown",
   "metadata": {},
   "source": [
    "`Scanpy` provides the `calculate_qc_metrics` function, which computes the following QC metrics:\n",
    "On the cell level (`.obs` level):\n",
    "* `n_genes_by_counts`: Number of genes with positive counts in a cell\n",
    "* `log1p_n_genes_by_counts`: Log(n+1) transformed number of genes with positive counts in a cell\n",
    "* `total_counts`: Total number of counts for a cell\n",
    "* `log1p_total_counts`: Log(n+1) transformed total number of counts for a cell\n",
    "* `pct_counts_in_top_50_genes`: Cumulative percentage of counts for 50 most expressed genes in a cell\n",
    "* `pct_counts_in_top_100_genes`: Cumulative percentage of counts for 100 most expressed genes in a cell\n",
    "* `pct_counts_in_top_200_genes`: Cumulative percentage of counts for 200 most expressed genes in a cell\n",
    "* `pct_counts_in_top_500_genes`: Cumulative percentage of counts for 500 most expressed genes in a cell\n",
    "\n",
    "On the gene level (`.var` level):\n",
    "* `n_cells_by_counts`: Number of cells this expression is measured in\n",
    "* `mean_counts`: Mean expression over all cells\n",
    "* `log1p_mean_counts`: Log(n+1) transformed mean expression over all cells\n",
    "* `pct_dropout_by_counts`: Percentage of cells this feature does not appear in\n",
    "* `total_counts`: Sum of counts for a gene\n",
    "* `log1p_total_counts`: Log(n+1) transformed sum of counts for a gene"
   ]
  },
  {
   "cell_type": "code",
   "execution_count": null,
   "metadata": {},
   "outputs": [],
   "source": [
    "sc.pp.calculate_qc_metrics(adata, inplace=True)"
   ]
  },
  {
   "cell_type": "markdown",
   "metadata": {},
   "source": [
    "We further aim to determine the fraction of mitochondrial counts per cell.\n",
    "Please note that mitochondrial genes in human start with 'MT-'"
   ]
  },
  {
   "cell_type": "code",
   "execution_count": null,
   "metadata": {},
   "outputs": [],
   "source": [
    "mt_gene_mask = np.flatnonzero([gene.startswith('MT-') for gene in adata.var_names])\n",
    "# the `.A1` is only necessary as X is sparse (to transform to a dense array after summing)\n",
    "adata.obs['mt_frac'] = np.sum(adata[:, mt_gene_mask].X, axis=1).A1/adata.obs['n_counts']"
   ]
  },
  {
   "cell_type": "markdown",
   "metadata": {},
   "source": [
    "Let us visualize the number of expressed genes and the number of counts as a scatter plot. "
   ]
  },
  {
   "cell_type": "markdown",
   "metadata": {},
   "source": [
    "**Task:** Create a scatter plot with the library size against the number of genes. Create a second plot, where you only show cells with a library size of less than 10,000 counts. Color by the fraction of mitochondrial reads. \n",
    "\n",
    "**Questions:** How can we describe the relation of library size vs number of expressed genes vs mitochondrial reads?"
   ]
  },
  {
   "cell_type": "code",
   "execution_count": null,
   "metadata": {},
   "outputs": [],
   "source": [
    "#Data quality summary plots\n",
    "p1 = sc.pl.scatter(adata = , x='' , y='', color='', size=40)\n",
    "#hint: temporary subsetting of the anndata object by .obs works like adata[adata.obs['key']<value]\n",
    "p2 = sc.pl.scatter(adata = , x='', y='', \n",
    "                   color='', size=40)"
   ]
  },
  {
   "cell_type": "markdown",
   "metadata": {},
   "source": [
    "**Task:** Below, you find a the code to create a violin plot of the library size. Create another two violin plots displaying the number of genes and the fraction of mitochondrial reads.\n",
    "\n",
    "**Questions:** How do the count data distribute within the sample? \n"
   ]
  },
  {
   "cell_type": "code",
   "execution_count": null,
   "metadata": {},
   "outputs": [],
   "source": [
    "#Sample quality plots\n",
    "rcParams['figure.figsize']=(7,7)\n",
    "t1 = sc.pl.violin(adata, 'n_counts',\n",
    "                  #groupby='sample',\n",
    "                  size=2, log=True, cut=0)\n",
    "t1 = sc.pl.violin() #display number of genes\n",
    "t2 = sc.pl.violin() #display the fraction of mitochondrial reads"
   ]
  },
  {
   "cell_type": "markdown",
   "metadata": {},
   "source": [
    "Examine the overall library complexity. \n",
    "\n",
    "**Task:** Plot the top 20 highest expressed genes. Use the function `sc.pl.highest_expr_genes`. \n",
    "\n",
    "**Questions:** Which genes do you find? Are they specific for a cell type?"
   ]
  },
  {
   "cell_type": "code",
   "execution_count": null,
   "metadata": {},
   "outputs": [],
   "source": [
    "?sc.pl.highest_expr_genes #? before a function opens the documentation of this function"
   ]
  },
  {
   "cell_type": "code",
   "execution_count": null,
   "metadata": {},
   "outputs": [],
   "source": []
  },
  {
   "cell_type": "markdown",
   "metadata": {},
   "source": [
    "**Task:** How many counts come from the top 50/100/200/500 highest expressed genes? Visualize the fraction as violin plot. (Hint: Already computed with the `calculate_qc_metrics` function.)"
   ]
  },
  {
   "cell_type": "code",
   "execution_count": null,
   "metadata": {},
   "outputs": [],
   "source": [
    "#Sample quality plots\n",
    "rcParams['figure.figsize']=(7,7) #set figure size\n",
    "t3 = sc.pl.violin(adata, keys = ['', '', '', ''], rotation = 90)"
   ]
  },
  {
   "cell_type": "markdown",
   "metadata": {},
   "source": [
    "**BONUS:** Visualize the log-transformed total counts vs the log-transformed number of expressed genes with distribution plots on the side of each axis. (Hint: Use the `jointplot` from the `seaborn` package)."
   ]
  },
  {
   "cell_type": "markdown",
   "metadata": {},
   "source": [
    "**Conclusions:** By looking at plots of the number of genes versus the number of counts with MT fraction information, we can assess whether there are cells with unexpected summary statistics. It is important here to look at these statistics jointly.  We should probably still filter out some cells with very few genes as these may be difficult to annotate later. This will be true for the initial cellular density between 1000-4000 counts and < ~500 genes.\n",
    "\n",
    "Furthermore it can be seen in the main cloud of data points, that cells with lower counts and genes tend to have a higher fraction of mitochondrial counts. These cells are likely under stress or are dying. When apoptotic cells are sequenced, there is less mRNA to be captured in the nucleus, and therefore fewer counts overall, and thus a higher fraction of counts fall upon mitochondrial RNA. If cells with high mitochondrial activity were found at higher counts/genes per cell, this would indicate biologically relevant mitochondrial activity."
   ]
  },
  {
   "cell_type": "markdown",
   "metadata": {},
   "source": [
    "**Task:** Create a histogram for the total number of counts. Further, create a histogram for the low count and high count regime, each. Here, you have to decide on a reasonable threshold. "
   ]
  },
  {
   "cell_type": "markdown",
   "metadata": {},
   "source": [
    "Note: `pandas` does some histogram plotting with `adata.obs['n_counts'].hist()`, howecer, you will obtain prettier plots with `distplot` from `seaborn`.    "
   ]
  },
  {
   "cell_type": "code",
   "execution_count": null,
   "metadata": {},
   "outputs": [],
   "source": [
    "#Thresholding decision: counts\n",
    "rcParams['figure.figsize']=(20,5)\n",
    "fig_ind=np.arange(131, 134)\n",
    "fig = plt.figure()\n",
    "fig.subplots_adjust(hspace=0.4, wspace=0.6)\n",
    "\n",
    "p3 = sb.distplot(adata.obs['total_counts'], \n",
    "                 kde=False, \n",
    "                 ax=fig.add_subplot(fig_ind[0]))\n",
    "p4 = sb.distplot( #histogram for low count regime\n",
    "                 ax=fig.add_subplot(fig_ind[1]))\n",
    "p5 = sb.distplot( #histogram for high count regime\n",
    "                 ax=fig.add_subplot(fig_ind[2]))\n",
    "plt.show()"
   ]
  },
  {
   "cell_type": "markdown",
   "metadata": {},
   "source": [
    "**Conclusions:**\n",
    "Histograms of the number of counts per cell show a small peak of groups of cells with fewer than **XX** counts, which are likely uninformative given the overall distribution of counts. This may be cellular debris found in droplets.\n",
    "\n",
    "On the upper end of counts, we see a population of cells with high counts with decaying slope at **XX** counts. We estimate this population to range until **XX** counts. This estimation is performed by visually tracing a Gaussian around the population."
   ]
  },
  {
   "cell_type": "markdown",
   "metadata": {},
   "source": [
    "**Task:** Create a histogram for the total number of genes. Further, create a histogram for the low gene count regime."
   ]
  },
  {
   "cell_type": "code",
   "execution_count": null,
   "metadata": {},
   "outputs": [],
   "source": [
    "#Thresholding decision: genes\n",
    "\n",
    "rcParams['figure.figsize']=(20,5)\n",
    "fig_ind=np.arange(131, 133)\n",
    "fig = plt.figure()\n",
    "fig.subplots_adjust(hspace=0.4, wspace=0.6) #create a grid for subplots\n",
    "\n",
    "p6 = sb.distplot(adata.obs['n_genes_by_counts'], \n",
    "                 kde=False, bins=60, ax=fig.add_subplot(fig_ind[0]))\n",
    "#low number of genes regime\n",
    "p7 = sb.distplot( ax=fig.add_subplot(fig_ind[1]))\n",
    "plt.show()"
   ]
  },
  {
   "cell_type": "markdown",
   "metadata": {},
   "source": [
    "**Conclusions:**\n",
    "Two populations of cells with low gene counts can be seen in the above plots. Given these plots, and the plot of genes vs counts above, we decide to filter out cells with fewer than **XX** genes expressed. Below this we are likely to find dying cells or empty droplets with ambient RNA. Looking above at the joint plots, we see that we filter out the main density of low gene cells with this threshold.\n",
    "\n",
    "In general it is a good idea to be permissive in the early filtering steps, and then come back to filter out more stringently when a clear picture is available of what would be filtered out. This is available after visualization/clustering. For demonstration purposes we stick to a simple (and slightly more stringent) filtering here."
   ]
  },
  {
   "cell_type": "markdown",
   "metadata": {},
   "source": [
    "**Task:** Create a histogram for the fraction of mitochondrial genes. Further, create a histogram for the high fraction regime."
   ]
  },
  {
   "cell_type": "code",
   "execution_count": null,
   "metadata": {},
   "outputs": [],
   "source": [
    "#Thresholding decision: mitochondrial reads\n",
    "\n",
    "rcParams['figure.figsize']=(20,5)\n",
    "fig_ind=np.arange(131, 133)\n",
    "fig = plt.figure()\n",
    "fig.subplots_adjust(hspace=0.4, wspace=0.6)\n",
    "\n",
    "p8 = sb.distplot(  #display the fraction of mitochondrial reads\n",
    "                 ax=fig.add_subplot(fig_ind[0]))\n",
    "\n",
    "p9 = sb.distplot(  #display the fraction of mitochondrial reads for the high fraction (in this case a threshold of 0.2 as high)\n",
    "                 ax=fig.add_subplot(fig_ind[1]))\n",
    "plt.show()"
   ]
  },
  {
   "cell_type": "markdown",
   "metadata": {},
   "source": [
    "**Task:** Filter your cells according for the total number of counts, number of expressed genes and fraction of mitochondrial reads. Check the number of remaining cells after each filtering step."
   ]
  },
  {
   "cell_type": "code",
   "execution_count": null,
   "metadata": {},
   "outputs": [],
   "source": [
    "# Filter cells according to identified QC thresholds:\n",
    "print('Total number of cells: {:d}'.format(adata.n_obs))\n",
    "\n",
    "sc.pp.filter_cells(adata, min_counts = )\n",
    "print('Number of cells after min count filter: {:d}'.format(adata.n_obs))\n",
    "\n",
    "sc.pp.filter_cells(adata, max_counts = )\n",
    "print('Number of cells after max count filter: {:d}'.format(adata.n_obs))\n",
    "\n",
    "adata = adata[adata.obs['mt_frac'] < ]\n",
    "print('Number of cells after MT filter: {:d}'.format(adata.n_obs))\n",
    "\n",
    "sc.pp.filter_cells(adata, min_genes = )\n",
    "print('Number of cells after gene filter: {:d}'.format(adata.n_obs))"
   ]
  },
  {
   "cell_type": "markdown",
   "metadata": {},
   "source": [
    "**Task:** Next, filter out non-expressed genes. Check the number of remaining genes after filtering."
   ]
  },
  {
   "cell_type": "code",
   "execution_count": null,
   "metadata": {},
   "outputs": [],
   "source": [
    "#Filter genes:\n",
    "print('Total number of genes: {:d}'.format(adata.n_vars))\n",
    "\n",
    "# Min 20 cells - filters out 0 count genes\n",
    "sc.pp.filter_genes(adata, )\n",
    "\n",
    "print('Number of genes after cell filter: {:d}'.format(adata.n_vars))"
   ]
  },
  {
   "cell_type": "markdown",
   "metadata": {},
   "source": [
    "The filtering is performed based on the thresholds we identified from the QC plots. Genes are also filtered if they are not detected in at least **XX** cells. This reduces the dimensions of the matrix by removing 0 count genes and genes which are not sufficiently informative of the dataset."
   ]
  },
  {
   "cell_type": "markdown",
   "metadata": {},
   "source": [
    "### Doublet score"
   ]
  },
  {
   "cell_type": "markdown",
   "metadata": {},
   "source": [
    "Let us estimate the amount of doublets in the dataset. Here, we use the tool `scrublet` that simulates doublet gene expression profiles based on the data. We apply it for each sample separately."
   ]
  },
  {
   "cell_type": "code",
   "execution_count": null,
   "metadata": {},
   "outputs": [],
   "source": [
    "adata.obs['doublet_score']= np.zeros(adata.shape[0])\n",
    "adata.obs['doublet'] = np.zeros(adata.shape[0])"
   ]
  },
  {
   "cell_type": "code",
   "execution_count": null,
   "metadata": {},
   "outputs": [],
   "source": [
    "# filtering/preprocessing parameters:\n",
    "min_counts = 2\n",
    "min_cells = 3\n",
    "vscore_percentile = 85\n",
    "n_pc = 50\n",
    "\n",
    "# doublet detector parameters:\n",
    "expected_doublet_rate = 0.02 \n",
    "sim_doublet_ratio = 3\n",
    "n_neighbors = 15\n",
    "\n",
    "\n",
    "\n",
    "scrub = scr.Scrublet(counts_matrix = adata.X,  \n",
    "                     n_neighbors = n_neighbors,\n",
    "                     sim_doublet_ratio = sim_doublet_ratio,\n",
    "                     expected_doublet_rate = expected_doublet_rate)\n",
    "\n",
    "doublet_scores, predicted_doublets = scrub.scrub_doublets( \n",
    "                    min_counts = min_counts, \n",
    "                    min_cells = min_cells, \n",
    "                    n_prin_comps = n_pc,\n",
    "                    use_approx_neighbors = True, \n",
    "                    get_doublet_neighbor_parents = False)\n",
    "\n",
    "adata.obs['doublet_score'] = doublet_scores\n",
    "adata.obs['doublet'] = predicted_doublets\n"
   ]
  },
  {
   "cell_type": "markdown",
   "metadata": {},
   "source": [
    "**Tasks:** Plot the doublet score as a histogram and as violin plot. "
   ]
  },
  {
   "cell_type": "code",
   "execution_count": null,
   "metadata": {},
   "outputs": [],
   "source": [
    "rcParams['figure.figsize']=(6,6)\n",
    "sb.distplot() #histogram of the doublet score\n",
    "plt.show()\n",
    "\n",
    "rcParams['figure.figsize']=(15,7)\n",
    "sc.pl.violin() #violin plot of the doublet score"
   ]
  },
  {
   "cell_type": "markdown",
   "metadata": {},
   "source": [
    "### filtering doublets"
   ]
  },
  {
   "cell_type": "markdown",
   "metadata": {},
   "source": [
    "Scrublet proposed a different threshold than we would choose based upon the histogram plot of the doublet scores."
   ]
  },
  {
   "cell_type": "markdown",
   "metadata": {},
   "source": [
    "**Tasks:** Decide on a threshold to filter doublets. "
   ]
  },
  {
   "cell_type": "code",
   "execution_count": null,
   "metadata": {},
   "outputs": [],
   "source": [
    "thr = #add threshold\n",
    "ix_filt = adata.obs['doublet_score']<=thr\n",
    "\n",
    "adata = adata[ix_filt].copy()\n",
    "print('Number of cells after doublet filter: {:d}'.format(adata.n_obs))"
   ]
  },
  {
   "cell_type": "markdown",
   "metadata": {},
   "source": [
    "### Summarize sample information"
   ]
  },
  {
   "cell_type": "markdown",
   "metadata": {},
   "source": [
    "In order to group by `batch` (for future purposes, because we presently deal with one sample), let us add a `batch` covariate to the `adata` object. "
   ]
  },
  {
   "cell_type": "code",
   "execution_count": null,
   "metadata": {},
   "outputs": [],
   "source": [
    "adata.obs['batch'] = '1'\n",
    "\n",
    "df = adata.obs[['n_genes_by_counts','total_counts', 'batch']]\n",
    "df_all = pd.DataFrame(df.groupby(by='batch')['n_genes_by_counts'].apply(np.mean).values,\n",
    "                      index=df.groupby(by='batch')['n_genes_by_counts'].apply(np.mean).index,\n",
    "                      columns=['mean_genes'])\n",
    "\n",
    "df_all['median_genes']=df.groupby(by='batch')['n_genes_by_counts'].apply(np.median).values\n",
    "df_all['mean_counts']=df.groupby(by='batch')['total_counts'].apply(np.mean).values\n",
    "df_all['median_counts']=df.groupby(by='batch')['total_counts'].apply(np.median).values"
   ]
  },
  {
   "cell_type": "markdown",
   "metadata": {},
   "source": [
    "Display table."
   ]
  },
  {
   "cell_type": "code",
   "execution_count": null,
   "metadata": {},
   "outputs": [],
   "source": [
    "df_all"
   ]
  },
  {
   "cell_type": "markdown",
   "metadata": {},
   "source": [
    "**Task:** Save the summary table to file (`csv` or `xlsx` format) to the `tables` subdirectory. "
   ]
  },
  {
   "cell_type": "code",
   "execution_count": null,
   "metadata": {},
   "outputs": [],
   "source": []
  },
  {
   "cell_type": "markdown",
   "metadata": {},
   "source": [
    "Save post-QC data to file."
   ]
  },
  {
   "cell_type": "code",
   "execution_count": null,
   "metadata": {},
   "outputs": [],
   "source": [
    "adata.write(data_dir + 'data_postQC.h5ad')"
   ]
  },
  {
   "cell_type": "markdown",
   "metadata": {},
   "source": [
    "**COMMENT:** End of second session and day 1. "
   ]
  }
 ],
 "metadata": {
  "kernelspec": {
   "display_name": "Python 3",
   "language": "python",
   "name": "python3"
  },
  "language_info": {
   "codemirror_mode": {
    "name": "ipython",
    "version": 3
   },
   "file_extension": ".py",
   "mimetype": "text/x-python",
   "name": "python",
   "nbconvert_exporter": "python",
   "pygments_lexer": "ipython3",
   "version": "3.8.6"
  },
  "toc": {
   "toc_cell": false,
   "toc_number_sections": true,
   "toc_threshold": 6,
   "toc_window_display": false
  },
  "toc-autonumbering": true,
  "toc-showcode": false,
  "toc-showmarkdowntxt": false
 },
 "nbformat": 4,
 "nbformat_minor": 4
}
